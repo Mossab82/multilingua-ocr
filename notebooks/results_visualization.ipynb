1. Setup and Imports

import pandas as pd
import numpy as np
import matplotlib.pyplot as plt
import seaborn as sns
from pathlib import Path
import json

2. Load Results

def load_evaluation_results(results_path):
    with open(results_path) as f:
        results = json.load(f)
    return results

3. Performance Metrics Visualization

def plot_performance_metrics(results):
    metrics = {
        'Character Error Rate': results['ocr']['cer'],
        'Cultural Concept Accuracy': results['cultural']['cca'],
        'Semantic Preservation Score': results['cultural']['sps']
    }
    
    plt.figure(figsize=(12, 6))
    bars = plt.bar(metrics.keys(), metrics.values())
    
    # Add value labels
    for bar in bars:
        height = bar.get_height()
        plt.text(
            bar.get_x() + bar.get_width()/2.,
            height,
            f'{height:.2%}',
            ha='center',
            va='bottom'
        )
    
    plt.title('Overall Performance Metrics')
    plt.ylabel('Score')
    plt.ylim(0, 1)
    plt.tight_layout()
    plt.show()

4. Language Pair Comparison

def plot_language_pair_comparison(results):
    language_pairs = list(results['language_pairs'].keys())
    metrics = ['cer', 'cca', 'sps']
    
    fig, axes = plt.subplots(1, 3, figsize=(18, 6))
    
    for i, metric in enumerate(metrics):
        values = [results['language_pairs'][pair][metric] for pair in language_pairs]
        axes[i].bar(language_pairs, values)
        axes[i].set_title(f'{metric.upper()} by Language Pair')
        axes[i].set_xticklabels(language_pairs, rotation=45)
        axes[i].set_ylim(0, 1)
    
    plt.tight_layout()
    plt.show()

5. Training History Visualization

def plot_training_history(history):
    metrics = ['train_loss', 'val_loss', 'cer', 'cca', 'sps']
    
    plt.figure(figsize=(15, 10))
    for i, metric in enumerate(metrics, 1):
        plt.subplot(2, 3, i)
        plt.plot(history[metric])
        plt.title(f'{metric.upper()} Over Time')
        plt.xlabel('Epoch')
        plt.ylabel(metric)
        plt.grid(True)
    
    plt.tight_layout()
    plt.show()

6. Error Analysis

def plot_error_analysis(results):
    error_types = results['error_analysis']
    
    plt.figure(figsize=(10, 6))
    plt.pie(
        error_types.values(),
        labels=error_types.keys(),
        autopct='%1.1f%%'
    )
    plt.title('Distribution of Error Types')
    plt.axis('equal')
    plt.show()

7. Script Classification Confusion Matrix

def plot_confusion_matrix(results):
    conf_matrix = results['script']['confusion_matrix']
    scripts = results['script']['labels']
    
    plt.figure(figsize=(10, 8))
    sns.heatmap(
        conf_matrix,
        annot=True,
        fmt='d',
        xticklabels=scripts,
        yticklabels=scripts,
        cmap='Blues'
    )
    plt.title('Script Classification Confusion Matrix')
    plt.xlabel('Predicted Script')
    plt.ylabel('True Script')
    plt.tight_layout()
    plt.show()

8. Document Examples

def show_example_results(image_paths, predictions, targets):
    n_examples = len(image_paths)
    fig, axes = plt.subplots(n_examples, 2, figsize=(15, 5*n_examples))
    
    for i, (image_path, pred, target) in enumerate(zip(
        image_paths, predictions, targets
    )):
        # Show original image
        image = plt.imread(image_path)
        axes[i, 0].imshow(image)
        axes[i, 0].set_title('Original Document')
        axes[i, 0].axis('off')
        
        # Show text comparison
        axes[i, 1].text(
            0.1, 0.6, f'Predicted: {pred}',
            wrap=True
        )
        axes[i, 1].text(
            0.1, 0.2, f'Target: {target}',
            wrap=True
        )
        axes[i, 1].axis('off')
    
    plt.tight_layout()
    plt.show()
